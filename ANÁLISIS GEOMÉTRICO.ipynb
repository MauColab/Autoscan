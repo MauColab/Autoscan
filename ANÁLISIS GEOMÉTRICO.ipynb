{
 "cells": [
  {
   "cell_type": "markdown",
   "id": "ee2e71c6",
   "metadata": {},
   "source": [
    "# Librerías y lectura"
   ]
  },
  {
   "cell_type": "code",
   "execution_count": 9,
   "id": "d5f76f41",
   "metadata": {},
   "outputs": [
    {
     "ename": "ModuleNotFoundError",
     "evalue": "No module named 'pandas'",
     "output_type": "error",
     "traceback": [
      "\u001b[31m---------------------------------------------------------------------------\u001b[39m",
      "\u001b[31mModuleNotFoundError\u001b[39m                       Traceback (most recent call last)",
      "\u001b[36mCell\u001b[39m\u001b[36m \u001b[39m\u001b[32mIn[9]\u001b[39m\u001b[32m, line 1\u001b[39m\n\u001b[32m----> \u001b[39m\u001b[32m1\u001b[39m \u001b[38;5;28;01mimport\u001b[39;00m\u001b[38;5;250m \u001b[39m\u001b[34;01mpandas\u001b[39;00m\u001b[38;5;250m \u001b[39m\u001b[38;5;28;01mas\u001b[39;00m\u001b[38;5;250m \u001b[39m\u001b[34;01mpd\u001b[39;00m\n\u001b[32m      2\u001b[39m \u001b[38;5;28;01mimport\u001b[39;00m\u001b[38;5;250m \u001b[39m\u001b[34;01mseaborn\u001b[39;00m\u001b[38;5;250m \u001b[39m\u001b[38;5;28;01mas\u001b[39;00m\u001b[38;5;250m \u001b[39m\u001b[34;01msns\u001b[39;00m\n\u001b[32m      3\u001b[39m \u001b[38;5;28;01mimport\u001b[39;00m\u001b[38;5;250m \u001b[39m\u001b[34;01mmatplotlib\u001b[39;00m\u001b[34;01m.\u001b[39;00m\u001b[34;01mpyplot\u001b[39;00m\u001b[38;5;250m \u001b[39m\u001b[38;5;28;01mas\u001b[39;00m\u001b[38;5;250m \u001b[39m\u001b[34;01mplt\u001b[39;00m\n",
      "\u001b[31mModuleNotFoundError\u001b[39m: No module named 'pandas'"
     ]
    }
   ],
   "source": [
    "import pandas as pd\n",
    "import seaborn as sns\n",
    "import matplotlib.pyplot as plt"
   ]
  },
  {
   "cell_type": "code",
   "execution_count": 4,
   "id": "fb764d5d",
   "metadata": {},
   "outputs": [],
   "source": [
    "df = pd.read_csv('./Dataset_TP/train/_annotations.csv')"
   ]
  },
  {
   "cell_type": "markdown",
   "id": "ebdbf444",
   "metadata": {},
   "source": [
    "# Datos generales"
   ]
  },
  {
   "cell_type": "code",
   "execution_count": 5,
   "id": "95d3bd24",
   "metadata": {},
   "outputs": [
    {
     "data": {
      "text/html": [
       "<div>\n",
       "<style scoped>\n",
       "    .dataframe tbody tr th:only-of-type {\n",
       "        vertical-align: middle;\n",
       "    }\n",
       "\n",
       "    .dataframe tbody tr th {\n",
       "        vertical-align: top;\n",
       "    }\n",
       "\n",
       "    .dataframe thead th {\n",
       "        text-align: right;\n",
       "    }\n",
       "</style>\n",
       "<table border=\"1\" class=\"dataframe\">\n",
       "  <thead>\n",
       "    <tr style=\"text-align: right;\">\n",
       "      <th></th>\n",
       "      <th>filename</th>\n",
       "      <th>width</th>\n",
       "      <th>height</th>\n",
       "      <th>class</th>\n",
       "      <th>xmin</th>\n",
       "      <th>ymin</th>\n",
       "      <th>xmax</th>\n",
       "      <th>ymax</th>\n",
       "    </tr>\n",
       "  </thead>\n",
       "  <tbody>\n",
       "    <tr>\n",
       "      <th>0</th>\n",
       "      <td>Foto-Placa-463-_jpg.rf.3bcf1a5eee313dec384ed6e...</td>\n",
       "      <td>640</td>\n",
       "      <td>640</td>\n",
       "      <td>placa</td>\n",
       "      <td>224</td>\n",
       "      <td>386</td>\n",
       "      <td>257</td>\n",
       "      <td>399</td>\n",
       "    </tr>\n",
       "    <tr>\n",
       "      <th>1</th>\n",
       "      <td>Foto-Placa-463-_jpg.rf.3bcf1a5eee313dec384ed6e...</td>\n",
       "      <td>640</td>\n",
       "      <td>640</td>\n",
       "      <td>placa</td>\n",
       "      <td>269</td>\n",
       "      <td>99</td>\n",
       "      <td>285</td>\n",
       "      <td>107</td>\n",
       "    </tr>\n",
       "    <tr>\n",
       "      <th>2</th>\n",
       "      <td>Foto-Placa-463-_jpg.rf.3bcf1a5eee313dec384ed6e...</td>\n",
       "      <td>640</td>\n",
       "      <td>640</td>\n",
       "      <td>placa</td>\n",
       "      <td>521</td>\n",
       "      <td>193</td>\n",
       "      <td>540</td>\n",
       "      <td>202</td>\n",
       "    </tr>\n",
       "    <tr>\n",
       "      <th>3</th>\n",
       "      <td>2023-05-09-07-26-37-29956-1425520mp4_1425522_j...</td>\n",
       "      <td>640</td>\n",
       "      <td>640</td>\n",
       "      <td>placa</td>\n",
       "      <td>322</td>\n",
       "      <td>164</td>\n",
       "      <td>389</td>\n",
       "      <td>219</td>\n",
       "    </tr>\n",
       "    <tr>\n",
       "      <th>4</th>\n",
       "      <td>27-de-abril-9_jpg.rf.8775093de7a3c51d555e0ec69...</td>\n",
       "      <td>640</td>\n",
       "      <td>640</td>\n",
       "      <td>placa</td>\n",
       "      <td>341</td>\n",
       "      <td>424</td>\n",
       "      <td>370</td>\n",
       "      <td>457</td>\n",
       "    </tr>\n",
       "  </tbody>\n",
       "</table>\n",
       "</div>"
      ],
      "text/plain": [
       "                                            filename  width  height  class  \\\n",
       "0  Foto-Placa-463-_jpg.rf.3bcf1a5eee313dec384ed6e...    640     640  placa   \n",
       "1  Foto-Placa-463-_jpg.rf.3bcf1a5eee313dec384ed6e...    640     640  placa   \n",
       "2  Foto-Placa-463-_jpg.rf.3bcf1a5eee313dec384ed6e...    640     640  placa   \n",
       "3  2023-05-09-07-26-37-29956-1425520mp4_1425522_j...    640     640  placa   \n",
       "4  27-de-abril-9_jpg.rf.8775093de7a3c51d555e0ec69...    640     640  placa   \n",
       "\n",
       "   xmin  ymin  xmax  ymax  \n",
       "0   224   386   257   399  \n",
       "1   269    99   285   107  \n",
       "2   521   193   540   202  \n",
       "3   322   164   389   219  \n",
       "4   341   424   370   457  "
      ]
     },
     "execution_count": 5,
     "metadata": {},
     "output_type": "execute_result"
    }
   ],
   "source": [
    "df.head()"
   ]
  },
  {
   "cell_type": "code",
   "execution_count": 10,
   "id": "27baa47f",
   "metadata": {},
   "outputs": [],
   "source": [
    "# Tamaño del DataFrame\n",
    "tamaño = df.size\n",
    "\n",
    "# Datos únicos en la columna filename\n",
    "unicos = df[\"filename\"].nunique()\n",
    "\n",
    "# Conteo de ocurrencias de cada archivo\n",
    "conteo = df[\"filename\"].value_counts().reset_index()[\"count\"].value_counts()"
   ]
  },
  {
   "cell_type": "code",
   "execution_count": null,
   "id": "64f0b409",
   "metadata": {},
   "outputs": [],
   "source": [
    "print(f\"Tamaño del DataFrame: {tamaño}\")\n",
    "print(f\"Número de archivos únicos: {unicos}\")\n",
    "print(\"Conteo de ocurrencias de cada archivo:\")\n",
    "print(conteo)"
   ]
  },
  {
   "cell_type": "markdown",
   "id": "b356127a",
   "metadata": {},
   "source": [
    "# Gráficos"
   ]
  },
  {
   "cell_type": "code",
   "execution_count": 7,
   "id": "b5d7f710",
   "metadata": {},
   "outputs": [
    {
     "data": {
      "text/plain": [
       "Text(0, 0.5, 'Número de imágenes')"
      ]
     },
     "execution_count": 7,
     "metadata": {},
     "output_type": "execute_result"
    },
    {
     "data": {
      "image/png": "[encoded data removed]",
      "text/plain": [
       "<Figure size 640x480 with 1 Axes>"
      ]
     },
     "metadata": {},
     "output_type": "display_data"
    }
   ],
   "source": [
    "sns.barplot(df[\"filename\"].value_counts().reset_index()[\"count\"].value_counts())\n",
    "plt.xlabel(\"Número de placas por imagen\")\n",
    "plt.ylabel(\"Número de imágenes\")"
   ]
  },
  {
   "cell_type": "markdown",
   "id": "14d103bc",
   "metadata": {},
   "source": [
    "# ANÁLISIS GEOMÉTRICO"
   ]
  },
  {
   "cell_type": "markdown",
   "id": "cda4e14f",
   "metadata": {},
   "source": [
    "## Dimensiones de la Región de Placa (Bounding Box)"
   ]
  },
  {
   "cell_type": "markdown",
   "id": "ccaeab4a",
   "metadata": {},
   "source": [
    "### Ancho de las placas"
   ]
  },
  {
   "cell_type": "code",
   "execution_count": 15,
   "id": "3921bea2",
   "metadata": {},
   "outputs": [
    {
     "data": {
      "text/plain": [
       "Text(0.5, 1.0, 'Boxplot del Ancho de las Placas')"
      ]
     },
     "execution_count": 15,
     "metadata": {},
     "output_type": "execute_result"
    },
    {
     "data": {
      "image/png": "[encoded data removed]",
      "text/plain": [
       "<Figure size 640x480 with 1 Axes>"
      ]
     },
     "metadata": {},
     "output_type": "display_data"
    }
   ],
   "source": [
    "#Ancho de bbox: Distribución, media, mediana, rango\n",
    "df['bbox_width'] = df['xmax'] - df['xmin']\n",
    "\n",
    "sns.boxplot(x=df[\"bbox_width\"])\n",
    "plt.title('Boxplot del Ancho de las Placas')"
   ]
  },
  {
   "cell_type": "code",
   "execution_count": 16,
   "id": "85c04cda",
   "metadata": {},
   "outputs": [
    {
     "data": {
      "text/html": [
       "<div>\n",
       "<style scoped>\n",
       "    .dataframe tbody tr th:only-of-type {\n",
       "        vertical-align: middle;\n",
       "    }\n",
       "\n",
       "    .dataframe tbody tr th {\n",
       "        vertical-align: top;\n",
       "    }\n",
       "\n",
       "    .dataframe thead th {\n",
       "        text-align: right;\n",
       "    }\n",
       "</style>\n",
       "<table border=\"1\" class=\"dataframe\">\n",
       "  <thead>\n",
       "    <tr style=\"text-align: right;\">\n",
       "      <th></th>\n",
       "      <th>index</th>\n",
       "      <th>bbox_width</th>\n",
       "    </tr>\n",
       "  </thead>\n",
       "  <tbody>\n",
       "    <tr>\n",
       "      <th>0</th>\n",
       "      <td>count</td>\n",
       "      <td>4144.000000</td>\n",
       "    </tr>\n",
       "    <tr>\n",
       "      <th>1</th>\n",
       "      <td>mean</td>\n",
       "      <td>38.033060</td>\n",
       "    </tr>\n",
       "    <tr>\n",
       "      <th>2</th>\n",
       "      <td>std</td>\n",
       "      <td>33.445026</td>\n",
       "    </tr>\n",
       "    <tr>\n",
       "      <th>3</th>\n",
       "      <td>min</td>\n",
       "      <td>3.000000</td>\n",
       "    </tr>\n",
       "    <tr>\n",
       "      <th>4</th>\n",
       "      <td>25%</td>\n",
       "      <td>21.000000</td>\n",
       "    </tr>\n",
       "    <tr>\n",
       "      <th>5</th>\n",
       "      <td>50%</td>\n",
       "      <td>31.000000</td>\n",
       "    </tr>\n",
       "    <tr>\n",
       "      <th>6</th>\n",
       "      <td>75%</td>\n",
       "      <td>44.000000</td>\n",
       "    </tr>\n",
       "    <tr>\n",
       "      <th>7</th>\n",
       "      <td>max</td>\n",
       "      <td>632.000000</td>\n",
       "    </tr>\n",
       "  </tbody>\n",
       "</table>\n",
       "</div>"
      ],
      "text/plain": [
       "   index   bbox_width\n",
       "0  count  4144.000000\n",
       "1   mean    38.033060\n",
       "2    std    33.445026\n",
       "3    min     3.000000\n",
       "4    25%    21.000000\n",
       "5    50%    31.000000\n",
       "6    75%    44.000000\n",
       "7    max   632.000000"
      ]
     },
     "execution_count": 16,
     "metadata": {},
     "output_type": "execute_result"
    }
   ],
   "source": [
    "df['bbox_width'].describe().reset_index()"
   ]
  },
  {
   "cell_type": "markdown",
   "id": "557c3fde",
   "metadata": {},
   "source": [
    "### Alto de las placas"
   ]
  },
  {
   "cell_type": "code",
   "execution_count": 17,
   "id": "acf946fa",
   "metadata": {},
   "outputs": [
    {
     "data": {
      "text/plain": [
       "Text(0.5, 1.0, 'Boxplot del Ancho de las Placas')"
      ]
     },
     "execution_count": 17,
     "metadata": {},
     "output_type": "execute_result"
    },
    {
     "data": {
      "image/png": "[encoded data removed]",
      "text/plain": [
       "<Figure size 640x480 with 1 Axes>"
      ]
     },
     "metadata": {},
     "output_type": "display_data"
    }
   ],
   "source": [
    "#Alto de bbox: Distribución, media, mediana, rango\n",
    "df['bbox_height'] = df['ymax'] - df['ymin']\n",
    "\n",
    "sns.boxplot(x=df[\"bbox_height\"])\n",
    "plt.title('Boxplot del Ancho de las Placas')"
   ]
  },
  {
   "cell_type": "code",
   "execution_count": 18,
   "id": "d3003202",
   "metadata": {},
   "outputs": [
    {
     "data": {
      "text/html": [
       "<div>\n",
       "<style scoped>\n",
       "    .dataframe tbody tr th:only-of-type {\n",
       "        vertical-align: middle;\n",
       "    }\n",
       "\n",
       "    .dataframe tbody tr th {\n",
       "        vertical-align: top;\n",
       "    }\n",
       "\n",
       "    .dataframe thead th {\n",
       "        text-align: right;\n",
       "    }\n",
       "</style>\n",
       "<table border=\"1\" class=\"dataframe\">\n",
       "  <thead>\n",
       "    <tr style=\"text-align: right;\">\n",
       "      <th></th>\n",
       "      <th>index</th>\n",
       "      <th>bbox_height</th>\n",
       "    </tr>\n",
       "  </thead>\n",
       "  <tbody>\n",
       "    <tr>\n",
       "      <th>0</th>\n",
       "      <td>count</td>\n",
       "      <td>4144.000000</td>\n",
       "    </tr>\n",
       "    <tr>\n",
       "      <th>1</th>\n",
       "      <td>mean</td>\n",
       "      <td>24.984556</td>\n",
       "    </tr>\n",
       "    <tr>\n",
       "      <th>2</th>\n",
       "      <td>std</td>\n",
       "      <td>27.928873</td>\n",
       "    </tr>\n",
       "    <tr>\n",
       "      <th>3</th>\n",
       "      <td>min</td>\n",
       "      <td>2.000000</td>\n",
       "    </tr>\n",
       "    <tr>\n",
       "      <th>4</th>\n",
       "      <td>25%</td>\n",
       "      <td>10.000000</td>\n",
       "    </tr>\n",
       "    <tr>\n",
       "      <th>5</th>\n",
       "      <td>50%</td>\n",
       "      <td>16.000000</td>\n",
       "    </tr>\n",
       "    <tr>\n",
       "      <th>6</th>\n",
       "      <td>75%</td>\n",
       "      <td>31.000000</td>\n",
       "    </tr>\n",
       "    <tr>\n",
       "      <th>7</th>\n",
       "      <td>max</td>\n",
       "      <td>479.000000</td>\n",
       "    </tr>\n",
       "  </tbody>\n",
       "</table>\n",
       "</div>"
      ],
      "text/plain": [
       "   index  bbox_height\n",
       "0  count  4144.000000\n",
       "1   mean    24.984556\n",
       "2    std    27.928873\n",
       "3    min     2.000000\n",
       "4    25%    10.000000\n",
       "5    50%    16.000000\n",
       "6    75%    31.000000\n",
       "7    max   479.000000"
      ]
     },
     "execution_count": 18,
     "metadata": {},
     "output_type": "execute_result"
    }
   ],
   "source": [
    "df['bbox_height'].describe().reset_index()"
   ]
  },
  {
   "cell_type": "markdown",
   "id": "e25d6647",
   "metadata": {},
   "source": [
    "### Área total de las placas"
   ]
  },
  {
   "cell_type": "code",
   "execution_count": 19,
   "id": "37de3baf",
   "metadata": {},
   "outputs": [],
   "source": [
    "# Área total: Histograma de tamaños\n",
    "df['bbox_area'] = df['bbox_width'] * df['bbox_height']"
   ]
  },
  {
   "cell_type": "code",
   "execution_count": 20,
   "id": "b79a4ec7",
   "metadata": {},
   "outputs": [
    {
     "data": {
      "text/plain": [
       "Text(0, 0.5, 'Frecuencia')"
      ]
     },
     "execution_count": 20,
     "metadata": {},
     "output_type": "execute_result"
    },
    {
     "data": {
      "image/png": "[encoded data removed]",
      "text/plain": [
       "<Figure size 640x480 with 1 Axes>"
      ]
     },
     "metadata": {},
     "output_type": "display_data"
    }
   ],
   "source": [
    "sns.histplot(df['bbox_area'])\n",
    "plt.title('Histograma del Área de las Placas')\n",
    "plt.xlabel('Área')\n",
    "plt.ylabel('Frecuencia')"
   ]
  },
  {
   "cell_type": "markdown",
   "id": "17e70ca8",
   "metadata": {},
   "source": [
    "Para verificar los datos del histograma, hacemos un conteo para todas las áreas que cumplan con los rangos"
   ]
  },
  {
   "cell_type": "code",
   "execution_count": 34,
   "id": "4acaeb30",
   "metadata": {},
   "outputs": [
    {
     "name": "stdout",
     "output_type": "stream",
     "text": [
      "Número de placas con área mayor a 50 000: 4133\n",
      "Número de placas con área entre 100 000 y 500 000: 5\n",
      "Número de placas con área entre 100 000 y 150 000: 1\n",
      "Número de placas con área entre 150 000 y 200,000: 2\n",
      "Número de placas con área entre 200 000 y 250 000: 1\n",
      "Número de placas con área mayor a 250 000: 2\n"
     ]
    }
   ],
   "source": [
    "menos_50000 = df[df[\"bbox_area\"] <= 50000]\n",
    "print(f\"Número de placas con área mayor a 50 000: {menos_50000.shape[0]}\")\n",
    "\n",
    "entre_50000_y_100000 = df[(df[\"bbox_area\"] > 50000) & (df[\"bbox_area\"] <= 100000)]\n",
    "print(f\"Número de placas con área entre 100 000 y 500 000: {entre_50000_y_100000.shape[0]}\")\n",
    "\n",
    "entre_100000_y_150000 = df[(df[\"bbox_area\"] > 100000) & (df[\"bbox_area\"] <= 150000)]\n",
    "print(f\"Número de placas con área entre 100 000 y 150 000: {entre_100000_y_150000.shape[0]}\")\n",
    "\n",
    "entre_150000_y_200000 = df[(df[\"bbox_area\"] > 150000) & (df[\"bbox_area\"] <= 200000)]\n",
    "print(f\"Número de placas con área entre 150 000 y 200,000: {entre_150000_y_200000.shape[0]}\")\n",
    "\n",
    "entre_200000_y_250000 = df[(df[\"bbox_area\"] > 200000) & (df[\"bbox_area\"] <= 250000)]\n",
    "print(f\"Número de placas con área entre 200 000 y 250 000: {entre_200000_y_250000.shape[0]}\")\n",
    "\n",
    "mas_250000 = df[df[\"bbox_area\"] > 250000]\n",
    "print(f\"Número de placas con área mayor a 250 000: {mas_250000.shape[0]}\")\n",
    "\n"
   ]
  },
  {
   "cell_type": "markdown",
   "id": "20cd9a26",
   "metadata": {},
   "source": [
    "### Aspect Ratio (Relación de aspecto)"
   ]
  },
  {
   "cell_type": "code",
   "execution_count": 23,
   "id": "ef77bb39",
   "metadata": {},
   "outputs": [],
   "source": [
    "df[\"aspect_ratio\"] = df['bbox_width'] / df['bbox_height']"
   ]
  },
  {
   "cell_type": "code",
   "execution_count": 24,
   "id": "fb44e05f",
   "metadata": {},
   "outputs": [
    {
     "data": {
      "text/plain": [
       "<Axes: xlabel='aspect_ratio', ylabel='Count'>"
      ]
     },
     "execution_count": 24,
     "metadata": {},
     "output_type": "execute_result"
    },
    {
     "data": {
      "image/png": "[encoded data removed]",
      "text/plain": [
       "<Figure size 640x480 with 1 Axes>"
      ]
     },
     "metadata": {},
     "output_type": "display_data"
    }
   ],
   "source": [
    "sns.histplot(df[\"aspect_ratio\"], bins=30)"
   ]
  },
  {
   "cell_type": "code",
   "execution_count": 25,
   "id": "fbf403ab",
   "metadata": {},
   "outputs": [
    {
     "data": {
      "text/html": [
       "<div>\n",
       "<style scoped>\n",
       "    .dataframe tbody tr th:only-of-type {\n",
       "        vertical-align: middle;\n",
       "    }\n",
       "\n",
       "    .dataframe tbody tr th {\n",
       "        vertical-align: top;\n",
       "    }\n",
       "\n",
       "    .dataframe thead th {\n",
       "        text-align: right;\n",
       "    }\n",
       "</style>\n",
       "<table border=\"1\" class=\"dataframe\">\n",
       "  <thead>\n",
       "    <tr style=\"text-align: right;\">\n",
       "      <th></th>\n",
       "      <th>filename</th>\n",
       "      <th>width</th>\n",
       "      <th>height</th>\n",
       "      <th>class</th>\n",
       "      <th>xmin</th>\n",
       "      <th>ymin</th>\n",
       "      <th>xmax</th>\n",
       "      <th>ymax</th>\n",
       "      <th>bbox_width</th>\n",
       "      <th>bbox_height</th>\n",
       "      <th>bbox_area</th>\n",
       "      <th>aspect_ratio</th>\n",
       "    </tr>\n",
       "  </thead>\n",
       "  <tbody>\n",
       "    <tr>\n",
       "      <th>224</th>\n",
       "      <td>Foto-Placa-222-_jpg.rf.bf1a31d558be3546315d12b...</td>\n",
       "      <td>640</td>\n",
       "      <td>640</td>\n",
       "      <td>placa</td>\n",
       "      <td>247</td>\n",
       "      <td>627</td>\n",
       "      <td>300</td>\n",
       "      <td>640</td>\n",
       "      <td>53</td>\n",
       "      <td>13</td>\n",
       "      <td>689</td>\n",
       "      <td>4.076923</td>\n",
       "    </tr>\n",
       "    <tr>\n",
       "      <th>341</th>\n",
       "      <td>Foto-Placa-222-_jpg.rf.ba39f3583474912883332fc...</td>\n",
       "      <td>640</td>\n",
       "      <td>640</td>\n",
       "      <td>placa</td>\n",
       "      <td>324</td>\n",
       "      <td>32</td>\n",
       "      <td>376</td>\n",
       "      <td>44</td>\n",
       "      <td>52</td>\n",
       "      <td>12</td>\n",
       "      <td>624</td>\n",
       "      <td>4.333333</td>\n",
       "    </tr>\n",
       "    <tr>\n",
       "      <th>926</th>\n",
       "      <td>Foto-Placa-7-_jpg.rf.df1f390397983d7f6a0bdf487...</td>\n",
       "      <td>640</td>\n",
       "      <td>640</td>\n",
       "      <td>placa</td>\n",
       "      <td>120</td>\n",
       "      <td>610</td>\n",
       "      <td>152</td>\n",
       "      <td>617</td>\n",
       "      <td>32</td>\n",
       "      <td>7</td>\n",
       "      <td>224</td>\n",
       "      <td>4.571429</td>\n",
       "    </tr>\n",
       "    <tr>\n",
       "      <th>2429</th>\n",
       "      <td>Foto-Placa-248-_jpg.rf.51f2ded407a4dc2990b8585...</td>\n",
       "      <td>640</td>\n",
       "      <td>640</td>\n",
       "      <td>placa</td>\n",
       "      <td>386</td>\n",
       "      <td>0</td>\n",
       "      <td>401</td>\n",
       "      <td>3</td>\n",
       "      <td>15</td>\n",
       "      <td>3</td>\n",
       "      <td>45</td>\n",
       "      <td>5.000000</td>\n",
       "    </tr>\n",
       "    <tr>\n",
       "      <th>2441</th>\n",
       "      <td>Foto-Placa-260-_jpg.rf.b4a95019aa454f66be0090e...</td>\n",
       "      <td>640</td>\n",
       "      <td>640</td>\n",
       "      <td>placa</td>\n",
       "      <td>55</td>\n",
       "      <td>313</td>\n",
       "      <td>89</td>\n",
       "      <td>321</td>\n",
       "      <td>34</td>\n",
       "      <td>8</td>\n",
       "      <td>272</td>\n",
       "      <td>4.250000</td>\n",
       "    </tr>\n",
       "    <tr>\n",
       "      <th>2623</th>\n",
       "      <td>Foto-Placa-294-_jpg.rf.d54523456f7224b461c3c03...</td>\n",
       "      <td>640</td>\n",
       "      <td>640</td>\n",
       "      <td>placa</td>\n",
       "      <td>330</td>\n",
       "      <td>0</td>\n",
       "      <td>347</td>\n",
       "      <td>4</td>\n",
       "      <td>17</td>\n",
       "      <td>4</td>\n",
       "      <td>68</td>\n",
       "      <td>4.250000</td>\n",
       "    </tr>\n",
       "  </tbody>\n",
       "</table>\n",
       "</div>"
      ],
      "text/plain": [
       "                                               filename  width  height  class  \\\n",
       "224   Foto-Placa-222-_jpg.rf.bf1a31d558be3546315d12b...    640     640  placa   \n",
       "341   Foto-Placa-222-_jpg.rf.ba39f3583474912883332fc...    640     640  placa   \n",
       "926   Foto-Placa-7-_jpg.rf.df1f390397983d7f6a0bdf487...    640     640  placa   \n",
       "2429  Foto-Placa-248-_jpg.rf.51f2ded407a4dc2990b8585...    640     640  placa   \n",
       "2441  Foto-Placa-260-_jpg.rf.b4a95019aa454f66be0090e...    640     640  placa   \n",
       "2623  Foto-Placa-294-_jpg.rf.d54523456f7224b461c3c03...    640     640  placa   \n",
       "\n",
       "      xmin  ymin  xmax  ymax  bbox_width  bbox_height  bbox_area  aspect_ratio  \n",
       "224    247   627   300   640          53           13        689      4.076923  \n",
       "341    324    32   376    44          52           12        624      4.333333  \n",
       "926    120   610   152   617          32            7        224      4.571429  \n",
       "2429   386     0   401     3          15            3         45      5.000000  \n",
       "2441    55   313    89   321          34            8        272      4.250000  \n",
       "2623   330     0   347     4          17            4         68      4.250000  "
      ]
     },
     "execution_count": 25,
     "metadata": {},
     "output_type": "execute_result"
    }
   ],
   "source": [
    "df[df[\"aspect_ratio\"] > 4]"
   ]
  },
  {
   "cell_type": "code",
   "execution_count": 26,
   "id": "54c05910",
   "metadata": {},
   "outputs": [
    {
     "data": {
      "text/plain": [
       "Text(0.5, 1.0, 'Relación entre Ancho y Alto de las Placas')"
      ]
     },
     "execution_count": 26,
     "metadata": {},
     "output_type": "execute_result"
    },
    {
     "data": {
      "image/png": "[encoded data removed]",
      "text/plain": [
       "<Figure size 640x480 with 1 Axes>"
      ]
     },
     "metadata": {},
     "output_type": "display_data"
    }
   ],
   "source": [
    "sns.scatterplot(data=df, x='bbox_width', y='bbox_height')\n",
    "plt.title('Relación entre Ancho y Alto de las Placas')"
   ]
  },
  {
   "cell_type": "markdown",
   "id": "002333df",
   "metadata": {},
   "source": [
    "Tamaño relativo:\n",
    "\n"
   ]
  },
  {
   "cell_type": "code",
   "execution_count": 27,
   "id": "5cfa512e",
   "metadata": {},
   "outputs": [],
   "source": [
    "relativo = (df[\"height\"]*df[\"width\"]) / df[\"bbox_area\"]"
   ]
  },
  {
   "cell_type": "code",
   "execution_count": 28,
   "id": "8f877b2b",
   "metadata": {},
   "outputs": [
    {
     "data": {
      "text/plain": [
       "0     954.778555\n",
       "1    3200.000000\n",
       "2    2395.321637\n",
       "3     111.153324\n",
       "4     428.004180\n",
       "dtype: float64"
      ]
     },
     "execution_count": 28,
     "metadata": {},
     "output_type": "execute_result"
    }
   ],
   "source": [
    "relativo.head()"
   ]
  },
  {
   "cell_type": "code",
   "execution_count": 29,
   "id": "f73f6b33",
   "metadata": {},
   "outputs": [
    {
     "data": {
      "text/plain": [
       "Text(0, 0.5, 'Frecuencia')"
      ]
     },
     "execution_count": 29,
     "metadata": {},
     "output_type": "execute_result"
    },
    {
     "data": {
      "image/png": "[encoded data removed]",
      "text/plain": [
       "<Figure size 640x480 with 1 Axes>"
      ]
     },
     "metadata": {},
     "output_type": "display_data"
    }
   ],
   "source": [
    "sns.histplot(relativo, bins=100)\n",
    "plt.title('Relación entre Área de Imagen y Área de Placa')\n",
    "plt.xlabel('Relación (Área Imagen / Área Placa)')\n",
    "plt.ylabel('Frecuencia')"
   ]
  },
  {
   "cell_type": "markdown",
   "id": "c8b34dc2",
   "metadata": {},
   "source": [
    "### Posición en la Imagen"
   ]
  },
  {
   "cell_type": "markdown",
   "id": "c5ee6934",
   "metadata": {},
   "source": [
    "Ubicación espacial:\n",
    "\n"
   ]
  },
  {
   "cell_type": "code",
   "execution_count": 33,
   "id": "69b67457",
   "metadata": {},
   "outputs": [
    {
     "data": {
      "text/html": [
       "<div>\n",
       "<style scoped>\n",
       "    .dataframe tbody tr th:only-of-type {\n",
       "        vertical-align: middle;\n",
       "    }\n",
       "\n",
       "    .dataframe tbody tr th {\n",
       "        vertical-align: top;\n",
       "    }\n",
       "\n",
       "    .dataframe thead th {\n",
       "        text-align: right;\n",
       "    }\n",
       "</style>\n",
       "<table border=\"1\" class=\"dataframe\">\n",
       "  <thead>\n",
       "    <tr style=\"text-align: right;\">\n",
       "      <th></th>\n",
       "      <th>filename</th>\n",
       "      <th>min_dist_border</th>\n",
       "      <th>dist_left</th>\n",
       "      <th>dist_right</th>\n",
       "      <th>dist_top</th>\n",
       "      <th>dist_bottom</th>\n",
       "    </tr>\n",
       "  </thead>\n",
       "  <tbody>\n",
       "    <tr>\n",
       "      <th>62</th>\n",
       "      <td>Foto-Placa-15-_jpg.rf.4bf0b1275c2947807e395918...</td>\n",
       "      <td>4</td>\n",
       "      <td>176</td>\n",
       "      <td>448</td>\n",
       "      <td>4</td>\n",
       "      <td>629</td>\n",
       "    </tr>\n",
       "    <tr>\n",
       "      <th>90</th>\n",
       "      <td>Foto-Placa-193-_jpg.rf.db9ffc303dd04f319eb6c2c...</td>\n",
       "      <td>0</td>\n",
       "      <td>0</td>\n",
       "      <td>606</td>\n",
       "      <td>549</td>\n",
       "      <td>79</td>\n",
       "    </tr>\n",
       "    <tr>\n",
       "      <th>114</th>\n",
       "      <td>25309b30-5657-11ee-9210-f7c57cc6fb16_png.rf.64...</td>\n",
       "      <td>0</td>\n",
       "      <td>465</td>\n",
       "      <td>111</td>\n",
       "      <td>0</td>\n",
       "      <td>604</td>\n",
       "    </tr>\n",
       "    <tr>\n",
       "      <th>169</th>\n",
       "      <td>Foto-Placa-196-_jpg.rf.e9dad54598275827ae6c6ae...</td>\n",
       "      <td>0</td>\n",
       "      <td>339</td>\n",
       "      <td>277</td>\n",
       "      <td>629</td>\n",
       "      <td>0</td>\n",
       "    </tr>\n",
       "    <tr>\n",
       "      <th>172</th>\n",
       "      <td>Foto-Placa-200-_jpg.rf.d12709bf468b47b343a77bf...</td>\n",
       "      <td>0</td>\n",
       "      <td>616</td>\n",
       "      <td>0</td>\n",
       "      <td>359</td>\n",
       "      <td>264</td>\n",
       "    </tr>\n",
       "    <tr>\n",
       "      <th>...</th>\n",
       "      <td>...</td>\n",
       "      <td>...</td>\n",
       "      <td>...</td>\n",
       "      <td>...</td>\n",
       "      <td>...</td>\n",
       "      <td>...</td>\n",
       "    </tr>\n",
       "    <tr>\n",
       "      <th>3920</th>\n",
       "      <td>Foto-Placa-40-_jpg.rf.ba1a41310e03ee08ded82203...</td>\n",
       "      <td>2</td>\n",
       "      <td>229</td>\n",
       "      <td>386</td>\n",
       "      <td>627</td>\n",
       "      <td>2</td>\n",
       "    </tr>\n",
       "    <tr>\n",
       "      <th>4029</th>\n",
       "      <td>Foto-Placa-398-_jpg.rf.b1fc2c195dbef116b367374...</td>\n",
       "      <td>0</td>\n",
       "      <td>0</td>\n",
       "      <td>620</td>\n",
       "      <td>115</td>\n",
       "      <td>511</td>\n",
       "    </tr>\n",
       "    <tr>\n",
       "      <th>4087</th>\n",
       "      <td>20231009_201533_jpg.rf.749d24a0804f82ade26a37f...</td>\n",
       "      <td>2</td>\n",
       "      <td>620</td>\n",
       "      <td>2</td>\n",
       "      <td>293</td>\n",
       "      <td>327</td>\n",
       "    </tr>\n",
       "    <tr>\n",
       "      <th>4109</th>\n",
       "      <td>25309b30-5657-11ee-9210-f7c57cc6fb16_png.rf.fa...</td>\n",
       "      <td>0</td>\n",
       "      <td>119</td>\n",
       "      <td>457</td>\n",
       "      <td>623</td>\n",
       "      <td>0</td>\n",
       "    </tr>\n",
       "    <tr>\n",
       "      <th>4126</th>\n",
       "      <td>Foto-Placa-66-_jpg.rf.05f56c975d053cc425372855...</td>\n",
       "      <td>0</td>\n",
       "      <td>631</td>\n",
       "      <td>0</td>\n",
       "      <td>305</td>\n",
       "      <td>317</td>\n",
       "    </tr>\n",
       "  </tbody>\n",
       "</table>\n",
       "<p>129 rows × 6 columns</p>\n",
       "</div>"
      ],
      "text/plain": [
       "                                               filename  min_dist_border  \\\n",
       "62    Foto-Placa-15-_jpg.rf.4bf0b1275c2947807e395918...                4   \n",
       "90    Foto-Placa-193-_jpg.rf.db9ffc303dd04f319eb6c2c...                0   \n",
       "114   25309b30-5657-11ee-9210-f7c57cc6fb16_png.rf.64...                0   \n",
       "169   Foto-Placa-196-_jpg.rf.e9dad54598275827ae6c6ae...                0   \n",
       "172   Foto-Placa-200-_jpg.rf.d12709bf468b47b343a77bf...                0   \n",
       "...                                                 ...              ...   \n",
       "3920  Foto-Placa-40-_jpg.rf.ba1a41310e03ee08ded82203...                2   \n",
       "4029  Foto-Placa-398-_jpg.rf.b1fc2c195dbef116b367374...                0   \n",
       "4087  20231009_201533_jpg.rf.749d24a0804f82ade26a37f...                2   \n",
       "4109  25309b30-5657-11ee-9210-f7c57cc6fb16_png.rf.fa...                0   \n",
       "4126  Foto-Placa-66-_jpg.rf.05f56c975d053cc425372855...                0   \n",
       "\n",
       "      dist_left  dist_right  dist_top  dist_bottom  \n",
       "62          176         448         4          629  \n",
       "90            0         606       549           79  \n",
       "114         465         111         0          604  \n",
       "169         339         277       629            0  \n",
       "172         616           0       359          264  \n",
       "...         ...         ...       ...          ...  \n",
       "3920        229         386       627            2  \n",
       "4029          0         620       115          511  \n",
       "4087        620           2       293          327  \n",
       "4109        119         457       623            0  \n",
       "4126        631           0       305          317  \n",
       "\n",
       "[129 rows x 6 columns]"
      ]
     },
     "execution_count": 33,
     "metadata": {},
     "output_type": "execute_result"
    }
   ],
   "source": [
    "dist_left = df['xmin']\n",
    "dist_right = df['width'] - df['xmax']\n",
    "dist_top = df['ymin']\n",
    "dist_bottom = df['height'] - df['ymax']\n",
    "min_dist_border = pd.concat([dist_left, dist_right, dist_top, dist_bottom], axis=1).min(axis=1)\n",
    "\n",
    "placas_cortadas = df[min_dist_border < 5].copy()\n",
    "placas_cortadas = placas_cortadas.assign(\n",
    "    min_dist_border=min_dist_border[min_dist_border < 5],\n",
    "    dist_left=dist_left[min_dist_border < 5],\n",
    "    dist_right=dist_right[min_dist_border < 5],\n",
    "    dist_top=dist_top[min_dist_border < 5],\n",
    "    dist_bottom=dist_bottom[min_dist_border < 5]\n",
    ")\n",
    "placas_cortadas[['filename', 'min_dist_border', 'dist_left', 'dist_right', 'dist_top', 'dist_bottom']]"
   ]
  }
 ],
 "metadata": {
  "kernelspec": {
   "display_name": "Python 3",
   "language": "python",
   "name": "python3"
  },
  "language_info": {
   "codemirror_mode": {
    "name": "ipython",
    "version": 3
   },
   "file_extension": ".py",
   "mimetype": "text/x-python",
   "name": "python",
   "nbconvert_exporter": "python",
   "pygments_lexer": "ipython3",
   "version": "3.12.10"
  }
 },
 "nbformat": 4,
 "nbformat_minor": 5
}
